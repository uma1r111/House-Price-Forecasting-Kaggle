{
 "cells": [
  {
   "cell_type": "code",
   "execution_count": null,
   "metadata": {},
   "outputs": [],
   "source": [
    "import pandas as pd\n",
    "import numpy as np\n",
    "import optuna\n",
    "from sklearn.model_selection import train_test_split, cross_val_score\n",
    "from sklearn.ensemble import RandomForestRegressor, ExtraTreesRegressor\n",
    "from sklearn.impute import SimpleImputer\n",
    "from sklearn.preprocessing import RobustScaler\n",
    "from sklearn.metrics import mean_squared_error\n",
    "import umap"
   ]
  },
  {
   "cell_type": "code",
   "execution_count": null,
   "metadata": {},
   "outputs": [],
   "source": [
    "# Load the datasets\n",
    "\n",
    "train = pd.read_csv(\"train.csv\")\n",
    "test = pd.read_csv(\"test.csv\")"
   ]
  },
  {
   "cell_type": "code",
   "execution_count": null,
   "metadata": {},
   "outputs": [],
   "source": [
    "# Retain the 'row ID' column for the submission file\n",
    "\n",
    "row_ids = test['row ID']\n",
    "test = test.drop(columns=[\"row ID\"])\n"
   ]
  },
  {
   "cell_type": "code",
   "execution_count": null,
   "metadata": {},
   "outputs": [],
   "source": [
    "# Data Cleaning\n",
    "\n",
    "def clean_data(df):\n",
    "    \n",
    "    # Handle missing values for numerical features\n",
    "\n",
    "    numeric_features = df.select_dtypes(include=[np.number]).columns\n",
    "    for col in numeric_features:\n",
    "        df[col] = df[col].fillna(df[col].median())\n",
    "\n",
    "    # Categorical features: Fill missing with 'unknown'\n",
    "\n",
    "    categorical_features = df.select_dtypes(include=[object]).columns\n",
    "    for col in categorical_features:\n",
    "        df[col] = df[col].fillna('unknown')\n",
    "\n",
    "    # Remove potential outliers in `price_doc` if present\n",
    "\n",
    "    if 'price_doc' in df.columns:\n",
    "        df = df[(df['price_doc'] > 1e5) & (df['price_doc'] < 1e8)]\n",
    "    return df\n",
    "\n",
    "train = clean_data(train)\n",
    "test = clean_data(test)"
   ]
  },
  {
   "cell_type": "code",
   "execution_count": null,
   "metadata": {},
   "outputs": [],
   "source": [
    "# Feature Engineering\n",
    "\n",
    "def feature_engineering(df):\n",
    "\n",
    "    # Add ratios and interaction features\n",
    "\n",
    "    if 'full_sq' in df.columns and 'life_sq' in df.columns:\n",
    "        df['full_sq_ratio_life_sq'] = df['full_sq'] / (df['life_sq'] + 1)\n",
    "\n",
    "    if 'raion_popul' in df.columns:\n",
    "        df['green_zone_ratio'] = df['green_zone_part'] / (df['raion_popul'] + 1)\n",
    "        df['indust_zone_ratio'] = df['indust_part'] / (df['raion_popul'] + 1)\n",
    "\n",
    "    # Add age-based features\n",
    "\n",
    "    if 'young_all' in df.columns and 'ekder_all' in df.columns:\n",
    "        df['dependency_ratio'] = (df['young_all'] + df['ekder_all']) / df['work_all']\n",
    "        df['elderly_ratio'] = df['ekder_all'] / df['raion_popul']\n",
    "\n",
    "    # Add transportation accessibility features\n",
    "\n",
    "    if 'metro_km_avto' in df.columns and 'railroad_station_avto_km' in df.columns:\n",
    "        df['transport_accessibility'] = (df['metro_km_avto'] + df['railroad_station_avto_km']) / 2\n",
    "\n",
    "    # Add healthcare accessibility features\n",
    "\n",
    "    if 'healthcare_centers_raion' in df.columns:\n",
    "        df['healthcare_density'] = df['healthcare_centers_raion'] / (df['raion_popul'] + 1)\n",
    "\n",
    "    # Feature interactions for education\n",
    "\n",
    "    if 'school_education_centers_raion' in df.columns and 'preschool_education_centers_raion' in df.columns:\n",
    "        df['education_access'] = df['school_education_centers_raion'] + df['preschool_education_centers_raion']\n",
    "\n",
    "    # Add density-based features\n",
    "\n",
    "    if 'area_m' in df.columns:\n",
    "        df['population_density'] = df['raion_popul'] / (df['area_m'] + 1)\n",
    "\n",
    "    # Encode categorical features\n",
    "    \n",
    "    categorical_features = df.select_dtypes(include=[object]).columns\n",
    "    df = pd.get_dummies(df, columns=categorical_features, drop_first=True)\n",
    "\n",
    "    return df"
   ]
  },
  {
   "cell_type": "code",
   "execution_count": null,
   "metadata": {},
   "outputs": [],
   "source": [
    "train = feature_engineering(train)\n",
    "test = feature_engineering(test)"
   ]
  },
  {
   "cell_type": "code",
   "execution_count": null,
   "metadata": {},
   "outputs": [],
   "source": [
    "# Separate the target variable\n",
    "\n",
    "target = train.pop(\"price_doc\")"
   ]
  },
  {
   "cell_type": "code",
   "execution_count": null,
   "metadata": {},
   "outputs": [],
   "source": [
    "# Handle Missing Values\n",
    "\n",
    "imputer = SimpleImputer(strategy=\"median\")\n",
    "train_imputed = imputer.fit_transform(train)\n",
    "test_imputed = imputer.transform(test)"
   ]
  },
  {
   "cell_type": "code",
   "execution_count": null,
   "metadata": {},
   "outputs": [],
   "source": [
    "# Standardization\n",
    "\n",
    "scaler = RobustScaler()\n",
    "train_scaled = scaler.fit_transform(train_imputed)\n",
    "test_scaled = scaler.transform(test_imputed)"
   ]
  },
  {
   "cell_type": "code",
   "execution_count": null,
   "metadata": {},
   "outputs": [],
   "source": [
    "# Step 5: Dimensionality Reduction using UMAP\n",
    "\n",
    "umap_reducer = umap.UMAP(n_neighbors=35, min_dist=0.1, n_components=50, random_state=42)\n",
    "train_reduced = umap_reducer.fit_transform(train_scaled)\n",
    "test_reduced = umap_reducer.transform(test_scaled)"
   ]
  },
  {
   "cell_type": "code",
   "execution_count": null,
   "metadata": {},
   "outputs": [],
   "source": [
    "# Split the data\n",
    "\n",
    "X_train, X_val, y_train, y_val = train_test_split(train_reduced, target, test_size=0.2, random_state=42)"
   ]
  },
  {
   "cell_type": "code",
   "execution_count": null,
   "metadata": {},
   "outputs": [],
   "source": [
    "# Hyperparameter Optimization with Optuna\n",
    "\n",
    "def objective_rf(trial):\n",
    "    n_estimators = trial.suggest_int('n_estimators', 100, 1500)\n",
    "    max_depth = trial.suggest_int('max_depth', 10, 100)\n",
    "    min_samples_split = trial.suggest_int('min_samples_split', 2, 20)\n",
    "    min_samples_leaf = trial.suggest_int('min_samples_leaf', 1, 20)\n",
    "    max_features = trial.suggest_categorical('max_features', ['auto', 'sqrt', 'log2'])\n",
    "    bootstrap = trial.suggest_categorical('bootstrap', [True, False])\n",
    "\n",
    "    model = RandomForestRegressor(\n",
    "        n_estimators=n_estimators,\n",
    "        max_depth=max_depth,\n",
    "        min_samples_split=min_samples_split,\n",
    "        min_samples_leaf=min_samples_leaf,\n",
    "        max_features=max_features,\n",
    "        bootstrap=bootstrap,\n",
    "        random_state=42,\n",
    "        n_jobs=-1\n",
    "    )\n",
    "\n",
    "    scores = cross_val_score(model, X_train, y_train, cv=8, scoring='neg_root_mean_squared_error')\n",
    "    return -1 * np.mean(scores)\n",
    "\n",
    "def objective_ext(trial):\n",
    "    n_estimators = trial.suggest_int('n_estimators', 100, 1500)\n",
    "    max_depth = trial.suggest_int('max_depth', 10, 100)\n",
    "    min_samples_split = trial.suggest_int('min_samples_split', 2, 20)\n",
    "    min_samples_leaf = trial.suggest_int('min_samples_leaf', 1, 20)\n",
    "    max_features = trial.suggest_categorical('max_features', ['auto', 'sqrt', 'log2'])\n",
    "    max_leaf_nodes = trial.suggest_int('max_leaf_nodes', 10, 500)\n",
    "    min_impurity_decrease = trial.suggest_float('min_impurity_decrease', 0.0, 1.0)\n",
    "    bootstrap = trial.suggest_categorical('bootstrap', [True, False])\n",
    "    criterion = trial.suggest_categorical('criterion', ['squared_error', 'absolute_error'])\n",
    "\n",
    "    model = ExtraTreesRegressor(\n",
    "        n_estimators=n_estimators,\n",
    "        max_depth=max_depth,\n",
    "        min_samples_split=min_samples_split,\n",
    "        min_samples_leaf=min_samples_leaf,\n",
    "        max_features=max_features,\n",
    "        max_leaf_nodes=max_leaf_nodes,\n",
    "        min_impurity_decrease=min_impurity_decrease,\n",
    "        bootstrap=bootstrap,\n",
    "        criterion=criterion,\n",
    "        random_state=42,\n",
    "        n_jobs=-1\n",
    "    )\n",
    "\n",
    "    scores = cross_val_score(model, X_train, y_train, cv=8, scoring='neg_root_mean_squared_error')\n",
    "    return -1 * np.mean(scores)\n"
   ]
  },
  {
   "cell_type": "code",
   "execution_count": null,
   "metadata": {},
   "outputs": [],
   "source": [
    "# Optimize Random Forest\n",
    "\n",
    "study_rf = optuna.create_study(direction='minimize')\n",
    "study_rf.optimize(objective_rf, n_trials=150)\n",
    "print(\"Best RF Params:\", study_rf.best_params)\n",
    "\n",
    "# Optimize Extra Trees\n",
    "\n",
    "study_ext = optuna.create_study(direction='minimize')\n",
    "study_ext.optimize(objective_ext, n_trials=250)\n",
    "print(\"Best Extra Trees Params:\", study_ext.best_params)\n"
   ]
  },
  {
   "cell_type": "code",
   "execution_count": null,
   "metadata": {},
   "outputs": [],
   "source": [
    "# Train the final Random Forest model\n",
    "\n",
    "rf_model = RandomForestRegressor(\n",
    "    **study_rf.best_params,\n",
    "    random_state=42,\n",
    "    n_jobs=-1\n",
    ")\n",
    "rf_model.fit(X_train, y_train)\n",
    "\n",
    "# Evaluate the RF model\n",
    "\n",
    "y_pred_val_rf = rf_model.predict(X_val)\n",
    "rmse_rf = np.sqrt(mean_squared_error(y_val, y_pred_val_rf))\n",
    "print(f\"Validation RMSE (RF): {rmse_rf}\")"
   ]
  },
  {
   "cell_type": "code",
   "execution_count": null,
   "metadata": {},
   "outputs": [],
   "source": [
    "# Train the final Extra Trees model\n",
    "\n",
    "ext_model = ExtraTreesRegressor(\n",
    "    **study_ext.best_params,\n",
    "    random_state=42,\n",
    "    n_jobs=-1\n",
    ")\n",
    "ext_model.fit(X_train, y_train)\n",
    "\n",
    "# Evaluate the Extra Trees model\n",
    "\n",
    "y_pred_val_ext = ext_model.predict(X_val)\n",
    "rmse_ext = np.sqrt(mean_squared_error(y_val, y_pred_val_ext))\n",
    "print(f\"Validation RMSE (Extra Trees): {rmse_ext}\")"
   ]
  },
  {
   "cell_type": "code",
   "execution_count": null,
   "metadata": {},
   "outputs": [],
   "source": [
    "# Make Predictions and Save Submission\n",
    "\n",
    "best_model = rf_model if rmse_rf < rmse_ext else ext_model"
   ]
  },
  {
   "cell_type": "code",
   "execution_count": null,
   "metadata": {},
   "outputs": [],
   "source": [
    "test_predictions = best_model.predict(test_reduced)\n",
    "submission = pd.DataFrame({\n",
    "    'row ID': row_ids,\n",
    "    'price_doc': test_predictions\n",
    "})\n",
    "submission.to_csv('submission_optimized.csv', index=False)\n",
    "print(\"Predictions saved to 'submission_optimized.csv'\")"
   ]
  }
 ],
 "metadata": {
  "kernelspec": {
   "display_name": "base",
   "language": "python",
   "name": "python3"
  },
  "language_info": {
   "codemirror_mode": {
    "name": "ipython",
    "version": 3
   },
   "file_extension": ".py",
   "mimetype": "text/x-python",
   "name": "python",
   "nbconvert_exporter": "python",
   "pygments_lexer": "ipython3",
   "version": "3.10.9"
  }
 },
 "nbformat": 4,
 "nbformat_minor": 2
}
